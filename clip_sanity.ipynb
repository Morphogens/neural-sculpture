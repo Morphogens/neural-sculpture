{
 "cells": [
  {
   "cell_type": "code",
   "execution_count": null,
   "metadata": {},
   "outputs": [],
   "source": [
    "%load_ext autoreload\n",
    "%autoreload 2\n",
    "import os\n",
    "os.environ[\"CUDA_VISIBLE_DEVICES\"] = \"3\"\n",
    "\n",
    "import torch\n",
    "import clip\n",
    "from PIL import Image\n",
    "\n",
    "target_image = Image.open(\"lCwwU.png\")\n",
    "target_image\n"
   ]
  },
  {
   "cell_type": "code",
   "execution_count": null,
   "metadata": {},
   "outputs": [],
   "source": [
    "import sys\n",
    "sys.path.insert(0, \"./CVPR2020-SDFDiff/multi_view_code/code/\")\n",
    "\n",
    "from clip_glue import CLIPLoss"
   ]
  },
  {
   "cell_type": "code",
   "execution_count": null,
   "metadata": {},
   "outputs": [],
   "source": [
    "import torchvision.transforms.functional as TF\n",
    "\n",
    "with torch.no_grad():\n",
    "    loss_fn = CLIPLoss(\"a picture of a 3d cube\")\n",
    "    x = TF.to_tensor(target_image)\n",
    "    x = x[None]\n",
    "    print(loss_fn(x))"
   ]
  },
  {
   "cell_type": "markdown",
   "metadata": {},
   "source": []
  },
  {
   "cell_type": "code",
   "execution_count": null,
   "metadata": {},
   "outputs": [],
   "source": [
    "import torchvision.transforms.functional as TF\n",
    "\n",
    "with torch.no_grad():\n",
    "    fake_image = Image.open(\"/home/tal/dev/neural-sculpture/CVPR2020-SDFDiff/multi_view_code/code/results/final_cam_16_25.png\")\n",
    "    loss_fn = CLIPLoss(\"a picture of a 3d cube\")\n",
    "    x = TF.to_tensor(fake_image)\n",
    "    x = x[None]\n",
    "    print(loss_fn(x))"
   ]
  },
  {
   "cell_type": "code",
   "execution_count": null,
   "metadata": {},
   "outputs": [],
   "source": [
    "import kornia.augmentation as K\n",
    "import torch.nn as nn\n",
    "\n",
    "transform = nn.Sequential(\n",
    "   K.RandomAffine(360),\n",
    "   K.ColorJitter(0.2, 0.3, 0.2, 0.3)\n",
    ")"
   ]
  },
  {
   "cell_type": "code",
   "execution_count": null,
   "metadata": {},
   "outputs": [],
   "source": [
    "W = 224\n",
    "H = 224\n",
    "input = torch.ones(1,3, W, H).cuda()\n",
    "input = input.requires_grad_()\n",
    "\n",
    "optim = torch.optim.Adam([input], lr=1e-2)\n",
    "from tqdm.auto import tqdm\n",
    "for i in tqdm(range(1000)):\n",
    "    optim.zero_grad()\n",
    "    aug = transform(input)\n",
    "    loss = loss_fn(aug)\n",
    "    loss.backward()\n",
    "    optim.step()\n",
    "    print(\"Loss\", loss.item())\n",
    "    "
   ]
  },
  {
   "cell_type": "code",
   "execution_count": null,
   "metadata": {},
   "outputs": [],
   "source": [
    "TF.to_pil_image(input.detach().cpu()[0])"
   ]
  },
  {
   "cell_type": "code",
   "execution_count": null,
   "metadata": {},
   "outputs": [],
   "source": []
  }
 ],
 "metadata": {
  "interpreter": {
   "hash": "69f8cad4fadf7ffdf1ee5b88969f6606df620abc19e7c0fec708d581f1ddc6c0"
  },
  "kernelspec": {
   "display_name": "Python 3.7.6 64-bit ('3.7.6': pyenv)",
   "name": "python3"
  },
  "language_info": {
   "name": "python",
   "version": ""
  },
  "orig_nbformat": 4
 },
 "nbformat": 4,
 "nbformat_minor": 2
}