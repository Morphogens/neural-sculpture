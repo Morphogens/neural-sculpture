{
 "cells": [
  {
   "cell_type": "code",
   "execution_count": 1,
   "metadata": {},
   "outputs": [],
   "source": [
    "%load_ext autoreload\n",
    "%autoreload 2"
   ]
  },
  {
   "cell_type": "code",
   "execution_count": 2,
   "metadata": {},
   "outputs": [
    {
     "name": "stdout",
     "output_type": "stream",
     "text": [
      "ClipLoss device cuda\n",
      "ClipLoss device cuda\n"
     ]
    }
   ],
   "source": [
    "import math\n",
    "from types import SimpleNamespace\n",
    "\n",
    "import numpy as np\n",
    "import ipywidgets as widgets\n",
    "from PIL import Image\n",
    "from IPython.display import display, clear_output\n",
    "\n",
    "from clip_sdf_refactor import SDFOptimizer"
   ]
  },
  {
   "cell_type": "code",
   "execution_count": 4,
   "metadata": {},
   "outputs": [],
   "source": [
    "from config import *\n",
    "\n",
    "optim_config = OptimConfig(\n",
    "    learning_rate=0.01,\n",
    "    batch_size=1,\n",
    "    init_tolerance=-0.1,\n",
    "    iters_per_res=10,\n",
    "    max_iters_per_cam=8,\n",
    "    camera=Camera(\n",
    "        max_num_cameras=16,\n",
    "        init_num_cameras=8,\n",
    "        mapping_span=2*math.pi,\n",
    "        shuffle_order=False,\n",
    "        mapping_type=\"linear\",\n",
    "    ),\n",
    "    loss=Loss(\n",
    "        image_loss_weight=1 / 1000,\n",
    "        sdf_loss_weight=1 / 1000,\n",
    "        lp_loss_weight=1 / 1000,\n",
    "    ),\n",
    ")\n"
   ]
  },
  {
   "cell_type": "code",
   "execution_count": 5,
   "metadata": {},
   "outputs": [
    {
     "data": {
      "text/plain": [
       "Camera(max_num_cameras=16, init_num_cameras=8, mapping_span=6.283185307179586, shuffle_order=False, mapping_type='linear', mapping_offset=3.141592653589793, cam_scaler=7.5)"
      ]
     },
     "execution_count": 5,
     "metadata": {},
     "output_type": "execute_result"
    }
   ],
   "source": [
    "optim_config.camera"
   ]
  },
  {
   "cell_type": "code",
   "execution_count": 6,
   "metadata": {},
   "outputs": [
    {
     "name": "stderr",
     "output_type": "stream",
     "text": [
      "/home/joel/anaconda3/envs/py36/lib/python3.6/site-packages/torch/nn/functional.py:3063: UserWarning: Default upsampling behavior when mode=trilinear is changed to align_corners=False since 0.4.0. Please specify align_corners=True if the old behavior is desired. See the documentation of nn.Upsample for details.\n",
      "  \"See the documentation of nn.Upsample for details.\".format(mode))\n"
     ]
    }
   ],
   "source": [
    "# %pdb on\n",
    "sdf_optimizer = SDFOptimizer(config=optim_config, sdf_grid_res_list = [12, 24, 40, 64],)"
   ]
  },
  {
   "cell_type": "code",
   "execution_count": null,
   "metadata": {},
   "outputs": [
    {
     "name": "stdout",
     "output_type": "stream",
     "text": [
      "        particle: 1.42%\n",
      "            node: 0.84%\n",
      "           ghost: 0.80%\n",
      "          carbon: 0.77%\n",
      "         diamond: 0.74%\n",
      "camera loss: 0.6582\n",
      "image_loss loss: 0.6582\n",
      "lp_loss loss: 18.5709\n",
      "sdf_loss loss: 205.5989\n"
     ]
    },
    {
     "data": {
      "image/png": "[encoded data removed]",
      "text/plain": [
       "<PIL.Image.Image image mode=L size=256x256 at 0x7FB82BEA4908>"
      ]
     },
     "metadata": {},
     "output_type": "display_data"
    }
   ],
   "source": [
    "%pdb off\n",
    "while True:\n",
    "    sdf_optimizer.optimization_step(\"a sculpture of a bunny\")"
   ]
  },
  {
   "cell_type": "code",
   "execution_count": null,
   "metadata": {},
   "outputs": [],
   "source": [
    "sdf_optimizer.config.camera.mapping_offset"
   ]
  },
  {
   "cell_type": "code",
   "execution_count": null,
   "metadata": {},
   "outputs": [],
   "source": []
  },
  {
   "cell_type": "code",
   "execution_count": null,
   "metadata": {},
   "outputs": [],
   "source": [
    "num_cameras = 16\n",
    "camera_angle_list = sdf_optimizer.get_camera_angle_list(\n",
    "    num_cameras=num_cameras,\n",
    "    mapping_span=optim_config.camera.mapping_span,\n",
    "    shuffle_order=optim_config.camera.shuffle_order,\n",
    "    mapping_type=optim_config.camera.mapping_type,\n",
    ")\n",
    "\n",
    "output = widgets.Output()\n",
    "\n",
    "def view_camera_angle(\n",
    "    cam_view_idx, \n",
    "    resolution,\n",
    "    prompt,\n",
    "    num_iters,\n",
    "    panning_range,\n",
    "):\n",
    "    cam_view_idx -= 1\n",
    "    \n",
    "    gen_img = sdf_optimizer.generate_image(\n",
    "        camera_angle_list[cam_view_idx], \n",
    "    )\n",
    "    \n",
    "    image_initial_array = gen_img.detach().cpu().numpy() * 255\n",
    "    \n",
    "    display(Image.fromarray(image_initial_array.astype(np.uint8)))\n",
    "\n",
    "menu = widgets.interactive(\n",
    "    view_camera_angle,\n",
    "    cam_view_idx=widgets.IntSlider(min=1, max=len(camera_angle_list), step=1, value=1),\n",
    "    resolution=widgets.Dropdown(options=sdf_optimizer.sdf_grid_res_list),\n",
    "    prompt=\"3D bunny rabbit mesh rendered with maya zbrush\",\n",
    "    num_iters=widgets.IntSlider(min=1, max=16, step=1, value=1),\n",
    "    panning_range=widgets.IntSlider(min=1, max=len(camera_angle_list), step=1, value=1),\n",
    ")\n",
    "\n",
    "display(menu)\n",
    "\n",
    "sculp_button = widgets.Button(description='Sculp!')\n",
    "\n",
    "display(sculp_button, output)\n",
    "\n",
    "def on_button_clicked(b):\n",
    "    current_camera_view = menu.kwargs['cam_view_idx']\n",
    "    current_prompt = menu.kwargs['prompt']\n",
    "    num_iters = menu.kwargs['num_iters']\n",
    "    panning_range = menu.kwargs['panning_range']\n",
    "    \n",
    "    for map_view_idx in range(panning_range):\n",
    "        for iter_idx in range(num_iters):\n",
    "            view_idx = int((current_camera_view + map_view_idx - panning_range/2) % num_cameras)\n",
    "            \n",
    "            with output:\n",
    "                print(\"Optimizing...\")\n",
    "                print(f\"VIEW - {view_idx} -- ITER - {iter_idx}\")\n",
    "                \n",
    "            sdf_optimizer.optimize_view(\n",
    "                current_prompt,\n",
    "                camera_angle_list[view_idx],\n",
    "            )\n",
    "            \n",
    "            display(menu)\n",
    "        \n",
    "            output.clear_output()\n",
    "    \n",
    "\n",
    "sculp_button.on_click(on_button_clicked)\n",
    "\n"
   ]
  },
  {
   "cell_type": "code",
   "execution_count": null,
   "metadata": {},
   "outputs": [],
   "source": []
  }
 ],
 "metadata": {
  "kernelspec": {
   "display_name": "Python 3",
   "language": "python",
   "name": "python3"
  },
  "language_info": {
   "codemirror_mode": {
    "name": "ipython",
    "version": 3
   },
   "file_extension": ".py",
   "mimetype": "text/x-python",
   "name": "python",
   "nbconvert_exporter": "python",
   "pygments_lexer": "ipython3",
   "version": "3.6.9"
  },
  "toc": {
   "base_numbering": 1,
   "nav_menu": {},
   "number_sections": true,
   "sideBar": true,
   "skip_h1_title": false,
   "title_cell": "Table of Contents",
   "title_sidebar": "Contents",
   "toc_cell": false,
   "toc_position": {},
   "toc_section_display": true,
   "toc_window_display": false
  }
 },
 "nbformat": 4,
 "nbformat_minor": 5
}
