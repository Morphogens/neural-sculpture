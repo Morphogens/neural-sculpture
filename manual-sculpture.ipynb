{
 "cells": [
  {
   "cell_type": "code",
   "execution_count": 1,
   "id": "a918430d-2fae-46f4-9ff4-106551fed598",
   "metadata": {},
   "outputs": [],
   "source": [
    "%load_ext autoreload\n",
    "%autoreload "
   ]
  },
  {
   "cell_type": "code",
   "execution_count": 2,
   "id": "f24fc996-16c2-49df-b454-1cae1af18c22",
   "metadata": {},
   "outputs": [
    {
     "name": "stdout",
     "output_type": "stream",
     "text": [
      "ClipLoss device cuda\n"
     ]
    }
   ],
   "source": [
    "import math\n",
    "from types import SimpleNamespace\n",
    "\n",
    "import numpy as np\n",
    "import ipywidgets as widgets\n",
    "from PIL import Image\n",
    "from IPython.display import display, clear_output\n",
    "\n",
    "from clip_sdf import SDFOptimizer"
   ]
  },
  {
   "cell_type": "code",
   "execution_count": 3,
   "id": "5462e36c-ff26-4a59-82ca-d55543ff1250",
   "metadata": {},
   "outputs": [],
   "source": [
    "optim_config = SimpleNamespace(\n",
    "    learning_rate=0.01,\n",
    "    batch_size=1,\n",
    "    init_tolerance=-0.1,\n",
    "    iters_per_res=10,\n",
    "    max_iters_per_cam=8,\n",
    "    camera=SimpleNamespace(\n",
    "        max_num_cameras=16,\n",
    "        init_num_cameras=8,\n",
    "        mapping_span=2*math.pi,\n",
    "        shuffle_order=False,\n",
    "        mapping_type=\"linear\",\n",
    "    ),\n",
    "    loss=SimpleNamespace(\n",
    "        image_loss_weight=1 / 1000,\n",
    "        sdf_loss_weight=1 / 1000,\n",
    "        lp_loss_weight=1 / 1000,\n",
    "    ),\n",
    ")\n"
   ]
  },
  {
   "cell_type": "code",
   "execution_count": 4,
   "id": "0a57cdb7-677d-460e-b0a6-ab425e4bbbcc",
   "metadata": {},
   "outputs": [
    {
     "name": "stderr",
     "output_type": "stream",
     "text": [
      "/opt/conda/envs/neural-sculpture/lib/python3.7/site-packages/torch/nn/functional.py:3063: UserWarning: Default upsampling behavior when mode=trilinear is changed to align_corners=False since 0.4.0. Please specify align_corners=True if the old behavior is desired. See the documentation of nn.Upsample for details.\n",
      "  \"See the documentation of nn.Upsample for details.\".format(mode))\n"
     ]
    }
   ],
   "source": [
    "sdf_optimizer = SDFOptimizer(config=optim_config, sdf_grid_res_list = [12, 24, 40, 64],)"
   ]
  },
  {
   "cell_type": "code",
   "execution_count": 5,
   "id": "4ecfc7bb-198b-4caa-8e93-9dbe3059ca12",
   "metadata": {},
   "outputs": [
    {
     "name": "stdout",
     "output_type": "stream",
     "text": [
      "CAM SCALER:  7.5\n"
     ]
    },
    {
     "data": {
      "application/vnd.jupyter.widget-view+json": {
       "model_id": "92d07057af3b43638f81bb3413bebf81",
       "version_major": 2,
       "version_minor": 0
      },
      "text/plain": [
       "interactive(children=(IntSlider(value=1, description='cam_view_idx', max=16, min=1), Dropdown(description='res…"
      ]
     },
     "metadata": {},
     "output_type": "display_data"
    },
    {
     "data": {
      "application/vnd.jupyter.widget-view+json": {
       "model_id": "44fa8f1ddab94ac09a9ae808ea577f02",
       "version_major": 2,
       "version_minor": 0
      },
      "text/plain": [
       "Button(description='Sculp!', style=ButtonStyle())"
      ]
     },
     "metadata": {},
     "output_type": "display_data"
    },
    {
     "data": {
      "application/vnd.jupyter.widget-view+json": {
       "model_id": "5d815fc174324c82990b446e10b61301",
       "version_major": 2,
       "version_minor": 0
      },
      "text/plain": [
       "Output()"
      ]
     },
     "metadata": {},
     "output_type": "display_data"
    }
   ],
   "source": [
    "num_cameras = 16\n",
    "camera_angle_list = sdf_optimizer.get_camera_angle_list(\n",
    "    num_cameras=num_cameras,\n",
    "    mapping_span=optim_config.camera.mapping_span,\n",
    "    shuffle_order=optim_config.camera.shuffle_order,\n",
    "    mapping_type=optim_config.camera.mapping_type,\n",
    ")\n",
    "\n",
    "output = widgets.Output()\n",
    "\n",
    "def view_camera_angle(\n",
    "    cam_view_idx, \n",
    "    resolution,\n",
    "    prompt,\n",
    "    num_iters,\n",
    "    panning_range,\n",
    "):\n",
    "    cam_view_idx -= 1\n",
    "    \n",
    "    gen_img = sdf_optimizer.generate_image(\n",
    "        camera_angle_list[cam_view_idx], \n",
    "    )\n",
    "    \n",
    "    image_initial_array = gen_img.detach().cpu().numpy() * 255\n",
    "    \n",
    "    display(Image.fromarray(image_initial_array.astype(np.uint8)))\n",
    "\n",
    "menu = widgets.interactive(\n",
    "    view_camera_angle,\n",
    "    cam_view_idx=widgets.IntSlider(min=1, max=len(camera_angle_list), step=1, value=1),\n",
    "    resolution=widgets.Dropdown(options=sdf_optimizer.sdf_grid_res_list),\n",
    "    prompt=\"3D bunny rabbit mesh rendered with maya zbrush\",\n",
    "    num_iters=widgets.IntSlider(min=1, max=16, step=1, value=1),\n",
    "    panning_range=widgets.IntSlider(min=1, max=len(camera_angle_list), step=1, value=1),\n",
    ")\n",
    "\n",
    "display(menu)\n",
    "\n",
    "sculp_button = widgets.Button(description='Sculp!')\n",
    "\n",
    "display(sculp_button, output)\n",
    "\n",
    "def on_button_clicked(b):\n",
    "    current_camera_view = menu.kwargs['cam_view_idx']\n",
    "    current_prompt = menu.kwargs['prompt']\n",
    "    num_iters = menu.kwargs['num_iters']\n",
    "    panning_range = menu.kwargs['panning_range']\n",
    "    \n",
    "    for map_view_idx in range(panning_range):\n",
    "        for iter_idx in range(num_iters):\n",
    "            view_idx = int((current_camera_view + map_view_idx - panning_range/2) % num_cameras)\n",
    "            \n",
    "            with output:\n",
    "                print(\"Optimizing...\")\n",
    "                print(f\"VIEW - {view_idx} -- ITER - {iter_idx}\")\n",
    "                \n",
    "            sdf_optimizer.optimize_view(\n",
    "                current_prompt,\n",
    "                camera_angle_list[view_idx],\n",
    "            )\n",
    "            \n",
    "            display(menu)\n",
    "        \n",
    "            output.clear_output()\n",
    "    \n",
    "\n",
    "sculp_button.on_click(on_button_clicked)\n",
    "\n"
   ]
  },
  {
   "cell_type": "code",
   "execution_count": null,
   "id": "7a485d99-8de4-4cc0-ae55-488ef1217b1e",
   "metadata": {},
   "outputs": [],
   "source": []
  }
 ],
 "metadata": {
  "kernelspec": {
   "display_name": "Python 3 (ipykernel)",
   "language": "python",
   "name": "python3"
  },
  "language_info": {
   "codemirror_mode": {
    "name": "ipython",
    "version": 3
   },
   "file_extension": ".py",
   "mimetype": "text/x-python",
   "name": "python",
   "nbconvert_exporter": "python",
   "pygments_lexer": "ipython3",
   "version": "3.7.9"
  }
 },
 "nbformat": 4,
 "nbformat_minor": 5
}
