{
 "cells": [
  {
   "cell_type": "code",
   "execution_count": 1,
   "id": "a918430d-2fae-46f4-9ff4-106551fed598",
   "metadata": {},
   "outputs": [],
   "source": [
    "%load_ext autoreload\n",
    "%autoreload "
   ]
  },
  {
   "cell_type": "code",
   "execution_count": null,
   "id": "f24fc996-16c2-49df-b454-1cae1af18c22",
   "metadata": {},
   "outputs": [
    {
     "name": "stdout",
     "output_type": "stream",
     "text": [
      "ClipLoss device cuda\n"
     ]
    }
   ],
   "source": [
    "import math\n",
    "from types import SimpleNamespace\n",
    "\n",
    "from clip_sdf import SDFOptimizer"
   ]
  },
  {
   "cell_type": "code",
   "execution_count": null,
   "id": "5462e36c-ff26-4a59-82ca-d55543ff1250",
   "metadata": {},
   "outputs": [],
   "source": [
    "optim_config = SimpleNamespace(\n",
    "    learning_rate=0.008,\n",
    "    batch_size=1,\n",
    "    init_tolerance=-0.2,\n",
    "    iters_per_res=6,\n",
    "    max_iters_per_cam=16,\n",
    "    camera=SimpleNamespace(\n",
    "        max_num_cameras=16,\n",
    "        init_num_cameras=8,\n",
    "        mapping_span=math.pi,\n",
    "        shuffle_order=False,\n",
    "        mapping_type=\"linear\",\n",
    "    ),\n",
    "    loss=SimpleNamespace(\n",
    "        image_loss_weight=1 / 10,\n",
    "        sdf_loss_weight=1 / 1000,\n",
    "        lp_loss_weight=1 / 1000,\n",
    "    ),\n",
    ")\n"
   ]
  },
  {
   "cell_type": "code",
   "execution_count": 4,
   "id": "0a57cdb7-677d-460e-b0a6-ab425e4bbbcc",
   "metadata": {},
   "outputs": [
    {
     "name": "stdout",
     "output_type": "stream",
     "text": [
      "\n",
      "\n",
      "\n",
      "image loss:  tensor(18.2500, device='cuda:0', dtype=torch.float16, grad_fn=<MulBackward0>) \n",
      "\n",
      "sdf loss:  tensor(5.9618, device='cuda:0', grad_fn=<MulBackward0>) \n",
      "\n",
      "lp loss:  tensor(0.3847, device='cuda:0', grad_fn=<MulBackward0>) \n",
      "\n",
      "loss:  tensor(48.3491, device='cuda:0', grad_fn=<DivBackward0>) \n",
      "\n",
      "tolerance: -0.05 \n",
      "\n",
      "\n",
      "sdf grid res: 64  - iteration: 4  -  cam view idx 15  -  cam iters: 1\n"
     ]
    },
    {
     "data": {
      "image/png": "[encoded data removed]",
      "text/plain": [
       "<PIL.Image.Image image mode=L size=256x256 at 0x7FC21D8DB610>"
      ]
     },
     "metadata": {},
     "output_type": "display_data"
    }
   ],
   "source": [
    "sdf_optimizer = SDFOptimizer(\n",
    "    config=optim_config,\n",
    "    sdf_grid_res_list = [16, 24, 40, 64],\n",
    "\n",
    "\n",
    ")\n",
    "\n",
    "sdf_optimizer.clip_sdf_optimization(\n",
    "    prompt=\"3D bunny rabbit mesh rendered with maya zbrush\",\n",
    "    experiment_name=\"test\",\n",
    ")"
   ]
  },
  {
   "cell_type": "code",
   "execution_count": 5,
   "id": "ed5cb12e-8cdb-442d-977c-39bbc7d294a2",
   "metadata": {},
   "outputs": [],
   "source": [
    "import os\n",
    "from IPython.display import Video"
   ]
  },
  {
   "cell_type": "code",
   "execution_count": 6,
   "id": "c1dacd8c-bbbb-4eec-99f7-18722b6fa631",
   "metadata": {},
   "outputs": [
    {
     "name": "stdout",
     "output_type": "stream",
     "text": [
      "Generating ./experiments/test-80/visualizations/generation.mp4\n"
     ]
    },
    {
     "name": "stderr",
     "output_type": "stream",
     "text": [
      "ffmpeg version 4.1.6-1~deb10u1 Copyright (c) 2000-2020 the FFmpeg developers\n",
      "  built with gcc 8 (Debian 8.3.0-6)\n",
      "  configuration: --prefix=/usr --extra-version='1~deb10u1' --toolchain=hardened --libdir=/usr/lib/x86_64-linux-gnu --incdir=/usr/include/x86_64-linux-gnu --arch=amd64 --enable-gpl --disable-stripping --enable-avresample --disable-filter=resample --enable-avisynth --enable-gnutls --enable-ladspa --enable-libaom --enable-libass --enable-libbluray --enable-libbs2b --enable-libcaca --enable-libcdio --enable-libcodec2 --enable-libflite --enable-libfontconfig --enable-libfreetype --enable-libfribidi --enable-libgme --enable-libgsm --enable-libjack --enable-libmp3lame --enable-libmysofa --enable-libopenjpeg --enable-libopenmpt --enable-libopus --enable-libpulse --enable-librsvg --enable-librubberband --enable-libshine --enable-libsnappy --enable-libsoxr --enable-libspeex --enable-libssh --enable-libtheora --enable-libtwolame --enable-libvidstab --enable-libvorbis --enable-libvpx --enable-libwavpack --enable-libwebp --enable-libx265 --enable-libxml2 --enable-libxvid --enable-libzmq --enable-libzvbi --enable-lv2 --enable-omx --enable-openal --enable-opengl --enable-sdl2 --enable-libdc1394 --enable-libdrm --enable-libiec61883 --enable-chromaprint --enable-frei0r --enable-libx264 --enable-shared\n",
      "  libavutil      56. 22.100 / 56. 22.100\n",
      "  libavcodec     58. 35.100 / 58. 35.100\n",
      "  libavformat    58. 20.100 / 58. 20.100\n",
      "  libavdevice    58.  5.100 / 58.  5.100\n",
      "  libavfilter     7. 40.101 /  7. 40.101\n",
      "  libavresample   4.  0.  0 /  4.  0.  0\n",
      "  libswscale      5.  3.100 /  5.  3.100\n",
      "  libswresample   3.  3.100 /  3.  3.100\n",
      "  libpostproc    55.  3.100 / 55.  3.100\n",
      "Input #0, image2, from './experiments/test-80/*.jpg':\n",
      "  Duration: 00:00:18.32, start: 0.000000, bitrate: N/A\n",
      "    Stream #0:0: Video: mjpeg, yuvj420p(pc, bt470bg/unknown/unknown), 256x256 [SAR 1:1 DAR 1:1], 25 fps, 25 tbr, 25 tbn, 25 tbc\n",
      "Stream mapping:\n",
      "  Stream #0:0 -> #0:0 (mjpeg (native) -> h264 (libx264))\n",
      "Press [q] to stop, [?] for help\n",
      "[swscaler @ 0x55e3ca246540] deprecated pixel format used, make sure you did set range correctly\n",
      "[libx264 @ 0x55e3ca1afd40] using SAR=1/1\n",
      "[libx264 @ 0x55e3ca1afd40] using cpu capabilities: MMX2 SSE2Fast SSSE3 SSE4.2 AVX FMA3 BMI2 AVX2\n",
      "[libx264 @ 0x55e3ca1afd40] profile High, level 1.2\n",
      "[libx264 @ 0x55e3ca1afd40] 264 - core 155 r2917 0a84d98 - H.264/MPEG-4 AVC codec - Copyleft 2003-2018 - http://www.videolan.org/x264.html - options: cabac=1 ref=3 deblock=1:0:0 analyse=0x3:0x113 me=hex subme=7 psy=1 psy_rd=1.00:0.00 mixed_ref=1 me_range=16 chroma_me=1 trellis=1 8x8dct=1 cqm=0 deadzone=21,11 fast_pskip=1 chroma_qp_offset=-2 threads=6 lookahead_threads=1 sliced_threads=0 nr=0 decimate=1 interlaced=0 bluray_compat=0 constrained_intra=0 bframes=3 b_pyramid=2 b_adapt=1 b_bias=0 direct=1 weightb=1 open_gop=0 weightp=2 keyint=250 keyint_min=16 scenecut=40 intra_refresh=0 rc_lookahead=40 rc=crf mbtree=1 crf=25.0 qcomp=0.60 qpmin=0 qpmax=69 qpstep=4 ip_ratio=1.40 aq=1:1.00\n",
      "Output #0, mp4, to './experiments/test-80/visualizations/generation.mp4':\n",
      "  Metadata:\n",
      "    encoder         : Lavf58.20.100\n",
      "    Stream #0:0: Video: h264 (libx264) (avc1 / 0x31637661), yuv420p, 256x256 [SAR 1:1 DAR 1:1], q=-1--1, 16 fps, 16384 tbn, 16 tbc\n",
      "    Metadata:\n",
      "      encoder         : Lavc58.35.100 libx264\n",
      "    Side data:\n",
      "      cpb: bitrate max/min/avg: 0/0/0 buffer size: 0 vbv_delay: -1\n",
      "frame=  458 fps=0.0 q=-1.0 Lsize=     210kB time=00:00:28.43 bitrate=  60.4kbits/s speed=56.2x    \n",
      "video:204kB audio:0kB subtitle:0kB other streams:0kB global headers:0kB muxing overhead: 2.899599%\n",
      "[libx264 @ 0x55e3ca1afd40] frame I:5     Avg QP:11.38  size:  1159\n",
      "[libx264 @ 0x55e3ca1afd40] frame P:157   Avg QP:22.22  size:   655\n",
      "[libx264 @ 0x55e3ca1afd40] frame B:296   Avg QP:24.73  size:   336\n",
      "[libx264 @ 0x55e3ca1afd40] consecutive B-frames: 10.9%  5.7%  9.2% 74.2%\n",
      "[libx264 @ 0x55e3ca1afd40] mb I  I16..4: 64.7% 33.0%  2.3%\n",
      "[libx264 @ 0x55e3ca1afd40] mb P  I16..4:  0.6%  8.8%  2.0%  P16..4:  3.9%  2.5%  0.9%  0.0%  0.0%    skip:81.3%\n",
      "[libx264 @ 0x55e3ca1afd40] mb B  I16..4:  0.4%  1.6%  0.4%  B16..8: 10.8%  3.4%  0.7%  direct: 0.7%  skip:81.9%  L0:45.6% L1:40.2% BI:14.1%\n",
      "[libx264 @ 0x55e3ca1afd40] 8x8 transform intra:67.4% inter:60.2%\n",
      "[libx264 @ 0x55e3ca1afd40] coded y,uvDC,uvAC intra: 53.2% 0.0% 0.0% inter: 3.3% 0.0% 0.0%\n",
      "[libx264 @ 0x55e3ca1afd40] i16 v,h,dc,p: 77%  9%  7%  7%\n",
      "[libx264 @ 0x55e3ca1afd40] i8 v,h,dc,ddl,ddr,vr,hd,vl,hu: 17% 13% 25%  6%  7%  9%  6% 10%  7%\n",
      "[libx264 @ 0x55e3ca1afd40] i4 v,h,dc,ddl,ddr,vr,hd,vl,hu: 21% 13% 20%  7%  9% 10%  7%  9%  5%\n",
      "[libx264 @ 0x55e3ca1afd40] i8c dc,h,v,p: 100%  0%  0%  0%\n",
      "[libx264 @ 0x55e3ca1afd40] Weighted P-Frames: Y:3.2% UV:0.0%\n",
      "[libx264 @ 0x55e3ca1afd40] ref P L0: 68.2%  9.0% 12.3%  9.1%  1.4%\n",
      "[libx264 @ 0x55e3ca1afd40] ref B L0: 85.5%  9.8%  4.7%\n",
      "[libx264 @ 0x55e3ca1afd40] ref B L1: 96.3%  3.7%\n",
      "[libx264 @ 0x55e3ca1afd40] kb/s:58.13\n"
     ]
    },
    {
     "name": "stdout",
     "output_type": "stream",
     "text": [
      "Generating ./experiments/test-80/visualizations/visualization.mp4\n"
     ]
    },
    {
     "name": "stderr",
     "output_type": "stream",
     "text": [
      "ffmpeg version 4.1.6-1~deb10u1 Copyright (c) 2000-2020 the FFmpeg developers\n",
      "  built with gcc 8 (Debian 8.3.0-6)\n",
      "  configuration: --prefix=/usr --extra-version='1~deb10u1' --toolchain=hardened --libdir=/usr/lib/x86_64-linux-gnu --incdir=/usr/include/x86_64-linux-gnu --arch=amd64 --enable-gpl --disable-stripping --enable-avresample --disable-filter=resample --enable-avisynth --enable-gnutls --enable-ladspa --enable-libaom --enable-libass --enable-libbluray --enable-libbs2b --enable-libcaca --enable-libcdio --enable-libcodec2 --enable-libflite --enable-libfontconfig --enable-libfreetype --enable-libfribidi --enable-libgme --enable-libgsm --enable-libjack --enable-libmp3lame --enable-libmysofa --enable-libopenjpeg --enable-libopenmpt --enable-libopus --enable-libpulse --enable-librsvg --enable-librubberband --enable-libshine --enable-libsnappy --enable-libsoxr --enable-libspeex --enable-libssh --enable-libtheora --enable-libtwolame --enable-libvidstab --enable-libvorbis --enable-libvpx --enable-libwavpack --enable-libwebp --enable-libx265 --enable-libxml2 --enable-libxvid --enable-libzmq --enable-libzvbi --enable-lv2 --enable-omx --enable-openal --enable-opengl --enable-sdl2 --enable-libdc1394 --enable-libdrm --enable-libiec61883 --enable-chromaprint --enable-frei0r --enable-libx264 --enable-shared\n",
      "  libavutil      56. 22.100 / 56. 22.100\n",
      "  libavcodec     58. 35.100 / 58. 35.100\n",
      "  libavformat    58. 20.100 / 58. 20.100\n",
      "  libavdevice    58.  5.100 / 58.  5.100\n",
      "  libavfilter     7. 40.101 /  7. 40.101\n",
      "  libavresample   4.  0.  0 /  4.  0.  0\n",
      "  libswscale      5.  3.100 /  5.  3.100\n",
      "  libswresample   3.  3.100 /  3.  3.100\n",
      "  libpostproc    55.  3.100 / 55.  3.100\n",
      "Input #0, image2, from './experiments/test-80/visualizations/*.jpg':\n",
      "  Duration: 00:00:05.12, start: 0.000000, bitrate: N/A\n",
      "    Stream #0:0: Video: mjpeg, yuvj420p(pc, bt470bg/unknown/unknown), 256x256 [SAR 1:1 DAR 1:1], 25 fps, 25 tbr, 25 tbn, 25 tbc\n",
      "Stream mapping:\n",
      "  Stream #0:0 -> #0:0 (mjpeg (native) -> h264 (libx264))\n",
      "Press [q] to stop, [?] for help\n",
      "[swscaler @ 0x55dda1893280] deprecated pixel format used, make sure you did set range correctly\n",
      "[libx264 @ 0x55dda17eeb40] using SAR=1/1\n",
      "[libx264 @ 0x55dda17eeb40] using cpu capabilities: MMX2 SSE2Fast SSSE3 SSE4.2 AVX FMA3 BMI2 AVX2\n",
      "[libx264 @ 0x55dda17eeb40] profile High, level 1.2\n",
      "[libx264 @ 0x55dda17eeb40] 264 - core 155 r2917 0a84d98 - H.264/MPEG-4 AVC codec - Copyleft 2003-2018 - http://www.videolan.org/x264.html - options: cabac=1 ref=3 deblock=1:0:0 analyse=0x3:0x113 me=hex subme=7 psy=1 psy_rd=1.00:0.00 mixed_ref=1 me_range=16 chroma_me=1 trellis=1 8x8dct=1 cqm=0 deadzone=21,11 fast_pskip=1 chroma_qp_offset=-2 threads=6 lookahead_threads=1 sliced_threads=0 nr=0 decimate=1 interlaced=0 bluray_compat=0 constrained_intra=0 bframes=3 b_pyramid=2 b_adapt=1 b_bias=0 direct=1 weightb=1 open_gop=0 weightp=2 keyint=250 keyint_min=16 scenecut=40 intra_refresh=0 rc_lookahead=40 rc=crf mbtree=1 crf=25.0 qcomp=0.60 qpmin=0 qpmax=69 qpstep=4 ip_ratio=1.40 aq=1:1.00\n",
      "Output #0, mp4, to './experiments/test-80/visualizations/visualization.mp4':\n",
      "  Metadata:\n",
      "    encoder         : Lavf58.20.100\n",
      "    Stream #0:0: Video: h264 (libx264) (avc1 / 0x31637661), yuv420p, 256x256 [SAR 1:1 DAR 1:1], q=-1--1, 16 fps, 16384 tbn, 16 tbc\n",
      "    Metadata:\n",
      "      encoder         : Lavc58.35.100 libx264\n",
      "    Side data:\n",
      "      cpb: bitrate max/min/avg: 0/0/0 buffer size: 0 vbv_delay: -1\n",
      "frame=  128 fps=0.0 q=-1.0 Lsize=      65kB time=00:00:07.81 bitrate=  67.7kbits/s speed=48.6x    \n",
      "video:62kB audio:0kB subtitle:0kB other streams:0kB global headers:0kB muxing overhead: 3.641522%\n",
      "[libx264 @ 0x55dda17eeb40] frame I:1     Avg QP:13.00  size:  1044\n",
      "[libx264 @ 0x55dda17eeb40] frame P:45    Avg QP:21.86  size:   870\n",
      "[libx264 @ 0x55dda17eeb40] frame B:82    Avg QP:25.65  size:   279\n",
      "[libx264 @ 0x55dda17eeb40] consecutive B-frames:  8.6% 14.1% 11.7% 65.6%\n",
      "[libx264 @ 0x55dda17eeb40] mb I  I16..4: 82.0% 17.2%  0.8%\n",
      "[libx264 @ 0x55dda17eeb40] mb P  I16..4:  0.6%  5.7%  0.7%  P16..4:  6.5%  5.6%  2.4%  0.0%  0.0%    skip:78.5%\n",
      "[libx264 @ 0x55dda17eeb40] mb B  I16..4:  0.4%  0.4%  0.0%  B16..8: 10.2%  3.1%  0.9%  direct: 1.2%  skip:83.8%  L0:30.7% L1:31.7% BI:37.6%\n",
      "[libx264 @ 0x55dda17eeb40] 8x8 transform intra:64.1% inter:56.7%\n",
      "[libx264 @ 0x55dda17eeb40] coded y,uvDC,uvAC intra: 43.7% 0.0% 0.0% inter: 4.3% 0.0% 0.0%\n",
      "[libx264 @ 0x55dda17eeb40] i16 v,h,dc,p: 83%  8%  6%  4%\n",
      "[libx264 @ 0x55dda17eeb40] i8 v,h,dc,ddl,ddr,vr,hd,vl,hu: 16% 11% 33%  6%  6%  8%  5%  8%  7%\n",
      "[libx264 @ 0x55dda17eeb40] i4 v,h,dc,ddl,ddr,vr,hd,vl,hu: 23%  9% 24%  6% 10%  9%  8%  6%  5%\n",
      "[libx264 @ 0x55dda17eeb40] i8c dc,h,v,p: 100%  0%  0%  0%\n",
      "[libx264 @ 0x55dda17eeb40] Weighted P-Frames: Y:31.1% UV:0.0%\n",
      "[libx264 @ 0x55dda17eeb40] ref P L0: 66.2% 16.6% 13.4%  3.2%  0.4%\n",
      "[libx264 @ 0x55dda17eeb40] ref B L0: 91.9%  6.7%  1.4%\n",
      "[libx264 @ 0x55dda17eeb40] ref B L1: 98.6%  1.4%\n",
      "[libx264 @ 0x55dda17eeb40] kb/s:63.10\n"
     ]
    }
   ],
   "source": [
    "sdf_optimizer.generate_visualizations()"
   ]
  },
  {
   "cell_type": "code",
   "execution_count": 7,
   "id": "c9707235-4674-4d91-96ed-712b5f01a04f",
   "metadata": {},
   "outputs": [
    {
     "data": {
      "text/plain": [
       "'./experiments/test-80/visualizations/generation.mp4'"
      ]
     },
     "execution_count": 7,
     "metadata": {},
     "output_type": "execute_result"
    }
   ],
   "source": [
    "os.path.join(sdf_optimizer.results_dir, \"visualizations\", 'generation.mp4')"
   ]
  },
  {
   "cell_type": "code",
   "execution_count": 8,
   "id": "4fd87645-5af4-49e6-9f8c-43336f3ad82f",
   "metadata": {},
   "outputs": [
    {
     "data": {
      "text/html": [
       "<video src=\"./experiments/test-80/visualizations/generation.mp4\" controls  >\n",
       "      Your browser does not support the <code>video</code> element.\n",
       "    </video>"
      ],
      "text/plain": [
       "<IPython.core.display.Video object>"
      ]
     },
     "execution_count": 8,
     "metadata": {},
     "output_type": "execute_result"
    }
   ],
   "source": [
    "Video(os.path.join(sdf_optimizer.results_dir, \"visualizations\", 'generation.mp4'))"
   ]
  },
  {
   "cell_type": "code",
   "execution_count": 9,
   "id": "1769e3ff-8318-4b9e-900f-7ac6302c0fce",
   "metadata": {},
   "outputs": [
    {
     "data": {
      "text/html": [
       "<video src=\"./experiments/test-80/visualizations/visualization.mp4\" controls  >\n",
       "      Your browser does not support the <code>video</code> element.\n",
       "    </video>"
      ],
      "text/plain": [
       "<IPython.core.display.Video object>"
      ]
     },
     "execution_count": 9,
     "metadata": {},
     "output_type": "execute_result"
    }
   ],
   "source": [
    "Video(os.path.join(sdf_optimizer.results_dir, \"visualizations\", 'visualization.mp4'))"
   ]
  },
  {
   "cell_type": "code",
   "execution_count": null,
   "id": "3cdf3625-2633-42ed-9d08-5f5bacb2317d",
   "metadata": {},
   "outputs": [],
   "source": []
  },
  {
   "cell_type": "code",
   "execution_count": null,
   "id": "672b6967-367f-4ae5-a0e0-aa0e7ef18bd9",
   "metadata": {},
   "outputs": [],
   "source": []
  },
  {
   "cell_type": "code",
   "execution_count": null,
   "id": "bdd82842-0cc6-4ba5-99da-d2d764b6d3a1",
   "metadata": {},
   "outputs": [],
   "source": []
  }
 ],
 "metadata": {
  "kernelspec": {
   "display_name": "Python 3 (ipykernel)",
   "language": "python",
   "name": "python3"
  },
  "language_info": {
   "codemirror_mode": {
    "name": "ipython",
    "version": 3
   },
   "file_extension": ".py",
   "mimetype": "text/x-python",
   "name": "python",
   "nbconvert_exporter": "python",
   "pygments_lexer": "ipython3",
   "version": "3.7.9"
  }
 },
 "nbformat": 4,
 "nbformat_minor": 5
}
