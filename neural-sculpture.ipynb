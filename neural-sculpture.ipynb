{
 "cells": [
  {
   "cell_type": "code",
   "execution_count": 1,
   "id": "a918430d-2fae-46f4-9ff4-106551fed598",
   "metadata": {},
   "outputs": [],
   "source": [
    "%load_ext autoreload\n",
    "%autoreload "
   ]
  },
  {
   "cell_type": "code",
   "execution_count": null,
   "id": "f24fc996-16c2-49df-b454-1cae1af18c22",
   "metadata": {},
   "outputs": [],
   "source": [
    "from sdf_clip import SDFCLIP"
   ]
  },
  {
   "cell_type": "code",
   "execution_count": null,
   "id": "5462e36c-ff26-4a59-82ca-d55543ff1250",
   "metadata": {},
   "outputs": [],
   "source": [
    "sdf_clip = SDFCLIP(\n",
    "    prompt=\"Mesh of a bunny rabbit rendered with zbrush maya\",\n",
    "    out_img_width=256,\n",
    "    out_img_height=256,\n",
    "    use_single_cam=True,\n",
    "    print_jupyter=True,\n",
    "    save_results=True,\n",
    ")"
   ]
  },
  {
   "cell_type": "code",
   "execution_count": null,
   "id": "0a57cdb7-677d-460e-b0a6-ab425e4bbbcc",
   "metadata": {},
   "outputs": [],
   "source": [
    "sdf_grid = sdf_clip.run(\n",
    "    learning_rate = 0.03,\n",
    "    image_loss_weight = 1 / 1000,\n",
    "    sdf_loss_weight = 1 / 1000,\n",
    "    lp_loss_weight = 1 / 1000,\n",
    "    max_std_res_loss = 0.8,\n",
    "    num_std_res_samples = 3,\n",
    "    max_num_iters_per_camera = 1,\n",
    ")"
   ]
  },
  {
   "cell_type": "code",
   "execution_count": 17,
   "id": "e3b54ef6-0162-4aff-b536-fc36f961b043",
   "metadata": {},
   "outputs": [],
   "source": [
    "optimizer = sdf_grid"
   ]
  },
  {
   "cell_type": "code",
   "execution_count": 6,
   "id": "daa170a7-b7cd-4998-9eda-5cb2f83d66fe",
   "metadata": {},
   "outputs": [
    {
     "data": {
      "text/plain": [
       "[dict_keys(['params', 'lr', 'betas', 'eps', 'weight_decay', 'amsgrad'])]"
      ]
     },
     "execution_count": 6,
     "metadata": {},
     "output_type": "execute_result"
    }
   ],
   "source": [
    "[o.keys() for o in optimizer.param_groups]"
   ]
  },
  {
   "cell_type": "code",
   "execution_count": 29,
   "id": "43b93e12-9d40-44e1-9bdc-e55d51da1fb8",
   "metadata": {},
   "outputs": [
    {
     "data": {
      "text/plain": [
       "torch.Size([1, 8, 8, 8])"
      ]
     },
     "execution_count": 29,
     "metadata": {},
     "output_type": "execute_result"
    }
   ],
   "source": [
    "exp_avg = optimizer.state_dict()['state'][0]['exp_avg'].clone()\n",
    "exp_avg[None,:].shape"
   ]
  },
  {
   "cell_type": "code",
   "execution_count": 32,
   "id": "68f9c55b-e3b8-4a1c-940c-c658fa4a1901",
   "metadata": {},
   "outputs": [
    {
     "data": {
      "text/plain": [
       "torch.Size([16, 16, 16])"
      ]
     },
     "execution_count": 32,
     "metadata": {},
     "output_type": "execute_result"
    }
   ],
   "source": [
    "a = torch.nn.functional.interpolate(exp_avg[None,None,:], size=(16,16,16), mode='trilinear')[0,0,:]\n",
    "a.shape"
   ]
  },
  {
   "cell_type": "code",
   "execution_count": 15,
   "id": "0437d748-0df3-41d7-97ee-f2c32448e271",
   "metadata": {},
   "outputs": [
    {
     "data": {
      "text/plain": [
       "torch.Size([8, 8, 16])"
      ]
     },
     "execution_count": 15,
     "metadata": {},
     "output_type": "execute_result"
    }
   ],
   "source": [
    "exp_avg.shape"
   ]
  },
  {
   "cell_type": "code",
   "execution_count": null,
   "id": "919c1d1f-e745-495e-aaa8-99f0a71b00e0",
   "metadata": {},
   "outputs": [],
   "source": [
    "sdf_grid.shape"
   ]
  },
  {
   "cell_type": "code",
   "execution_count": null,
   "id": "ed5cb12e-8cdb-442d-977c-39bbc7d294a2",
   "metadata": {},
   "outputs": [],
   "source": [
    "import os\n",
    "from IPython.display import Video"
   ]
  },
  {
   "cell_type": "code",
   "execution_count": null,
   "id": "4fd87645-5af4-49e6-9f8c-43336f3ad82f",
   "metadata": {},
   "outputs": [],
   "source": [
    "Video(os.path.join(sdf_clip.vis_dir, 'generation.mp4'))"
   ]
  },
  {
   "cell_type": "code",
   "execution_count": null,
   "id": "1769e3ff-8318-4b9e-900f-7ac6302c0fce",
   "metadata": {},
   "outputs": [],
   "source": [
    "Video(os.path.join(sdf_clip.vis_dir, 'visualization.mp4'))"
   ]
  },
  {
   "cell_type": "code",
   "execution_count": null,
   "id": "6d56b387-b414-4dfc-8085-704a2eb62d3b",
   "metadata": {},
   "outputs": [],
   "source": [
    "import numpy as np"
   ]
  },
  {
   "cell_type": "code",
   "execution_count": null,
   "id": "0cae7991-ccd4-458b-a7ed-8127d7b6982d",
   "metadata": {},
   "outputs": [],
   "source": [
    "np.save('bunny_grid.npy', sdf_grid.detach().cpu().numpy())"
   ]
  },
  {
   "cell_type": "code",
   "execution_count": null,
   "id": "1724544d-6ab0-47e1-8f41-cf5f87d02678",
   "metadata": {},
   "outputs": [],
   "source": [
    "import math\n",
    "import time\n",
    "\n",
    "import torch\n",
    "from PIL import Image\n",
    "from IPython.display import display, clear_output\n",
    "\n",
    "from sdf_utils import generate_image"
   ]
  },
  {
   "cell_type": "code",
   "execution_count": null,
   "id": "5ebaeaa6-cc48-4abc-be41-3f113788b81b",
   "metadata": {},
   "outputs": [],
   "source": [
    "Tensor = torch.cuda.FloatTensor\n",
    "camera_angle_list = [\n",
    "    Tensor([0, 0, 5]),  # 0\n",
    "    Tensor([0.1, 5, 0]),\n",
    "    Tensor([5, 0, 0]),\n",
    "    Tensor([0, 0, -5]),\n",
    "    Tensor([0.1, -5, 0]),\n",
    "    Tensor([-5, 0, 0]),  # 5\n",
    "    Tensor([5 / math.sqrt(2), 0, 5 / math.sqrt(2)]),\n",
    "    Tensor([5 / math.sqrt(2), 5 / math.sqrt(2), 0]),\n",
    "    Tensor([0, 5 / math.sqrt(2), 5 / math.sqrt(2)]),\n",
    "    Tensor([-5 / math.sqrt(2), 0, -5 / math.sqrt(2)]),\n",
    "    Tensor([-5 / math.sqrt(2), -5 / math.sqrt(2), 0]),  #10\n",
    "    Tensor([0, -5 / math.sqrt(2), -5 / math.sqrt(2)]),\n",
    "    Tensor([-5 / math.sqrt(2), 0, 5 / math.sqrt(2)]),\n",
    "    Tensor([-5 / math.sqrt(2), 5 / math.sqrt(2), 0]),\n",
    "    Tensor([0, -5 / math.sqrt(2), 5 / math.sqrt(2)]),\n",
    "    Tensor([5 / math.sqrt(2), 0, -5 / math.sqrt(2)]),\n",
    "    Tensor([5 / math.sqrt(2), -5 / math.sqrt(2), 0]),\n",
    "    Tensor([0, 5 / math.sqrt(2), -5 / math.sqrt(2)]),\n",
    "    Tensor([5 / math.sqrt(3), 5 / math.sqrt(3), 5 / math.sqrt(3)]),\n",
    "    Tensor([5 / math.sqrt(3), 5 / math.sqrt(3), -5 / math.sqrt(3)]),\n",
    "    Tensor([5 / math.sqrt(3), -5 / math.sqrt(3), 5 / math.sqrt(3)]),\n",
    "    Tensor([-5 / math.sqrt(3), 5 / math.sqrt(3), 5 / math.sqrt(3)]),\n",
    "    Tensor([-5 / math.sqrt(3), -5 / math.sqrt(3), 5 / math.sqrt(3)]),\n",
    "    Tensor([-5 / math.sqrt(3), 5 / math.sqrt(3), -5 / math.sqrt(3)]),\n",
    "    Tensor([5 / math.sqrt(3), -5 / math.sqrt(3), -5 / math.sqrt(3)]),\n",
    "    Tensor([-5 / math.sqrt(3), -5 / math.sqrt(3), -5 / math.sqrt(3)])\n",
    "]"
   ]
  },
  {
   "cell_type": "code",
   "execution_count": null,
   "id": "b30f60c1-714b-4dae-8ad9-7e708eec47a1",
   "metadata": {},
   "outputs": [],
   "source": [
    "num_cameras = 26\n",
    "camera_angle_list = [\n",
    "    torch.tensor([5 * math.cos(a), 0, 5 * math.sin(a)]).cuda()\n",
    "    for a in np.linspace(0, math.pi / 4, num_cameras)\n",
    "]"
   ]
  },
  {
   "cell_type": "code",
   "execution_count": null,
   "id": "651e1f33-23dd-482e-b581-cdd194186ae8",
   "metadata": {},
   "outputs": [],
   "source": [
    "bounding_box_min_x = -2.\n",
    "bounding_box_min_y = -2.\n",
    "bounding_box_min_z = -2.\n",
    "bounding_box_max_x = 2.\n",
    "bounding_box_max_y = 2.\n",
    "bounding_box_max_z = 2\n",
    "\n",
    "grid_res_x = grid_res_y = grid_res_z = sdf_grid.shape[0]\n",
    "voxel_size = torch.tensor([4. / (grid_res_x - 1)]).cuda()\n",
    "\n",
    "out_img_width = 512\n",
    "out_img_height = 512\n",
    "\n",
    "for cam in range(num_cameras):\n",
    "    image_initial = generate_image(\n",
    "        bounding_box_min_x,\n",
    "        bounding_box_min_y,\n",
    "        bounding_box_min_z,\n",
    "        bounding_box_max_x,\n",
    "        bounding_box_max_y,\n",
    "        bounding_box_max_z,\n",
    "        voxel_size,\n",
    "        grid_res_x,\n",
    "        grid_res_y,\n",
    "        grid_res_z,\n",
    "        out_img_width,\n",
    "        out_img_height,\n",
    "        sdf_grid,\n",
    "        camera_angle_list[cam],\n",
    "    )\n",
    "    \n",
    "    clear_output(wait=True)\n",
    "    \n",
    "    image_initial_array = image_initial.detach().cpu().numpy() * 255\n",
    "    display(Image.fromarray(image_initial_array.astype(np.uint8)))\n",
    "    print(camera_angle_list[cam])\n",
    "    time.sleep(0.4)"
   ]
  },
  {
   "cell_type": "code",
   "execution_count": null,
   "id": "19e8f58c-28e1-4a6f-8803-79eaa2c8ff37",
   "metadata": {},
   "outputs": [],
   "source": []
  },
  {
   "cell_type": "code",
   "execution_count": null,
   "id": "28352c06-3130-4951-b2f0-e02532fd1ca1",
   "metadata": {},
   "outputs": [],
   "source": []
  }
 ],
 "metadata": {
  "kernelspec": {
   "display_name": "Python 3 (ipykernel)",
   "language": "python",
   "name": "python3"
  },
  "language_info": {
   "codemirror_mode": {
    "name": "ipython",
    "version": 3
   },
   "file_extension": ".py",
   "mimetype": "text/x-python",
   "name": "python",
   "nbconvert_exporter": "python",
   "pygments_lexer": "ipython3",
   "version": "3.7.9"
  }
 },
 "nbformat": 4,
 "nbformat_minor": 5
}
