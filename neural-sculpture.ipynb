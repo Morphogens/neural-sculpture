{
 "cells": [
  {
   "cell_type": "code",
   "execution_count": 1,
   "id": "a918430d-2fae-46f4-9ff4-106551fed598",
   "metadata": {},
   "outputs": [],
   "source": [
    "%load_ext autoreload\n",
    "%autoreload "
   ]
  },
  {
   "cell_type": "code",
   "execution_count": 2,
   "id": "f24fc996-16c2-49df-b454-1cae1af18c22",
   "metadata": {},
   "outputs": [
    {
     "name": "stdout",
     "output_type": "stream",
     "text": [
      "ClipLoss device cuda\n"
     ]
    }
   ],
   "source": [
    "import math\n",
    "from types import SimpleNamespace\n",
    "\n",
    "from clip_sdf import clip_sdf_optimization, generate_visualizations"
   ]
  },
  {
   "cell_type": "code",
   "execution_count": 3,
   "id": "5462e36c-ff26-4a59-82ca-d55543ff1250",
   "metadata": {},
   "outputs": [],
   "source": [
    " optim_config = SimpleNamespace(\n",
    "    learning_rate=0.01,\n",
    "    batch_size=4,\n",
    "    init_tolerance=-1,\n",
    "    iters_per_res=20,\n",
    "    max_iters_per_cam=32,\n",
    "    camera=SimpleNamespace(\n",
    "        max_num_cameras=8,\n",
    "        init_num_cameras=8,\n",
    "        mapping_span=2 * math.pi,\n",
    "        shuffle_order=False,\n",
    "        mapping_type=\"linear\", # manual | sdfdiff\n",
    "    ),\n",
    "    loss=SimpleNamespace(\n",
    "        image_loss_weight=1 / 5000,\n",
    "        sdf_loss_weight=1 / 1000,\n",
    "        lp_loss_weight=1 / 1000,\n",
    "    ),\n",
    ")    "
   ]
  },
  {
   "cell_type": "code",
   "execution_count": 4,
   "id": "0a57cdb7-677d-460e-b0a6-ab425e4bbbcc",
   "metadata": {},
   "outputs": [
    {
     "name": "stdout",
     "output_type": "stream",
     "text": [
      "\n",
      "\n",
      "\n",
      "image loss:  tensor(-4.9805, device='cuda:0', dtype=torch.float16, grad_fn=<MulBackward0>)\n",
      "image weight:  tensor(65536)\n",
      "\n",
      "sdf loss:  tensor(8.4467, device='cuda:0', grad_fn=<MulBackward0>)\n",
      "sdf weight:  tensor(262144)\n",
      "\n",
      "lp loss:  tensor(0.1929, device='cuda:0', grad_fn=<MulBackward0>)\n",
      "lp weight:  tensor(262144)\n",
      "\n",
      "loss:  0\n",
      "\n",
      "tolerance: -0.125\n",
      "\n",
      "sdf grid res: 64  - iteration: 20  -  cam view idx 6  -  cam iters: 2\n",
      "\n"
     ]
    },
    {
     "data": {
      "image/png": "[encoded data removed]",
      "text/plain": [
       "<PIL.Image.Image image mode=L size=256x256 at 0x7F789DE25810>"
      ]
     },
     "metadata": {},
     "output_type": "display_data"
    }
   ],
   "source": [
    "experiment_dir = clip_sdf_optimization(\n",
    "    prompt=\"3D bunny rabbit mesh rendered with maya zbrush\",\n",
    "    optim_config=optim_config,\n",
    "    experiment_name=\"test\",\n",
    "    sdf_grid_res_list=[8, 16, 24, 32, 40, 48, 56, 64],\n",
    ")"
   ]
  },
  {
   "cell_type": "code",
   "execution_count": 5,
   "id": "acb2dbab-bfc1-460c-b770-c7ee59d456d0",
   "metadata": {},
   "outputs": [
    {
     "name": "stdout",
     "output_type": "stream",
     "text": [
      "Generating ./experiments/test-28/visualizations/generation.mp4\n"
     ]
    },
    {
     "name": "stderr",
     "output_type": "stream",
     "text": [
      "ffmpeg version 4.1.6-1~deb10u1 Copyright (c) 2000-2020 the FFmpeg developers\n",
      "  built with gcc 8 (Debian 8.3.0-6)\n",
      "  configuration: --prefix=/usr --extra-version='1~deb10u1' --toolchain=hardened --libdir=/usr/lib/x86_64-linux-gnu --incdir=/usr/include/x86_64-linux-gnu --arch=amd64 --enable-gpl --disable-stripping --enable-avresample --disable-filter=resample --enable-avisynth --enable-gnutls --enable-ladspa --enable-libaom --enable-libass --enable-libbluray --enable-libbs2b --enable-libcaca --enable-libcdio --enable-libcodec2 --enable-libflite --enable-libfontconfig --enable-libfreetype --enable-libfribidi --enable-libgme --enable-libgsm --enable-libjack --enable-libmp3lame --enable-libmysofa --enable-libopenjpeg --enable-libopenmpt --enable-libopus --enable-libpulse --enable-librsvg --enable-librubberband --enable-libshine --enable-libsnappy --enable-libsoxr --enable-libspeex --enable-libssh --enable-libtheora --enable-libtwolame --enable-libvidstab --enable-libvorbis --enable-libvpx --enable-libwavpack --enable-libwebp --enable-libx265 --enable-libxml2 --enable-libxvid --enable-libzmq --enable-libzvbi --enable-lv2 --enable-omx --enable-openal --enable-opengl --enable-sdl2 --enable-libdc1394 --enable-libdrm --enable-libiec61883 --enable-chromaprint --enable-frei0r --enable-libx264 --enable-shared\n",
      "  libavutil      56. 22.100 / 56. 22.100\n",
      "  libavcodec     58. 35.100 / 58. 35.100\n",
      "  libavformat    58. 20.100 / 58. 20.100\n",
      "  libavdevice    58.  5.100 / 58.  5.100\n",
      "  libavfilter     7. 40.101 /  7. 40.101\n",
      "  libavresample   4.  0.  0 /  4.  0.  0\n",
      "  libswscale      5.  3.100 /  5.  3.100\n",
      "  libswresample   3.  3.100 /  3.  3.100\n",
      "  libpostproc    55.  3.100 / 55.  3.100\n",
      "Input #0, image2, from './experiments/test-28/*.jpg':\n",
      "  Duration: 00:00:06.72, start: 0.000000, bitrate: N/A\n",
      "    Stream #0:0: Video: mjpeg, yuvj420p(pc, bt470bg/unknown/unknown), 256x256 [SAR 1:1 DAR 1:1], 25 fps, 25 tbr, 25 tbn, 25 tbc\n",
      "Stream mapping:\n",
      "  Stream #0:0 -> #0:0 (mjpeg (native) -> h264 (libx264))\n",
      "Press [q] to stop, [?] for help\n",
      "[swscaler @ 0x5558b4f1c800] deprecated pixel format used, make sure you did set range correctly\n",
      "[libx264 @ 0x5558b4e90f80] using SAR=1/1\n",
      "[libx264 @ 0x5558b4e90f80] using cpu capabilities: MMX2 SSE2Fast SSSE3 SSE4.2 AVX FMA3 BMI2 AVX2\n",
      "[libx264 @ 0x5558b4e90f80] profile High, level 1.2\n",
      "[libx264 @ 0x5558b4e90f80] 264 - core 155 r2917 0a84d98 - H.264/MPEG-4 AVC codec - Copyleft 2003-2018 - http://www.videolan.org/x264.html - options: cabac=1 ref=3 deblock=1:0:0 analyse=0x3:0x113 me=hex subme=7 psy=1 psy_rd=1.00:0.00 mixed_ref=1 me_range=16 chroma_me=1 trellis=1 8x8dct=1 cqm=0 deadzone=21,11 fast_pskip=1 chroma_qp_offset=-2 threads=6 lookahead_threads=1 sliced_threads=0 nr=0 decimate=1 interlaced=0 bluray_compat=0 constrained_intra=0 bframes=3 b_pyramid=2 b_adapt=1 b_bias=0 direct=1 weightb=1 open_gop=0 weightp=2 keyint=250 keyint_min=16 scenecut=40 intra_refresh=0 rc_lookahead=40 rc=crf mbtree=1 crf=25.0 qcomp=0.60 qpmin=0 qpmax=69 qpstep=4 ip_ratio=1.40 aq=1:1.00\n",
      "Output #0, mp4, to './experiments/test-28/visualizations/generation.mp4':\n",
      "  Metadata:\n",
      "    encoder         : Lavf58.20.100\n",
      "    Stream #0:0: Video: h264 (libx264) (avc1 / 0x31637661), yuv420p, 256x256 [SAR 1:1 DAR 1:1], q=-1--1, 16 fps, 16384 tbn, 16 tbc\n",
      "    Metadata:\n",
      "      encoder         : Lavc58.35.100 libx264\n",
      "    Side data:\n",
      "      cpb: bitrate max/min/avg: 0/0/0 buffer size: 0 vbv_delay: -1\n",
      "frame=  168 fps=0.0 q=-1.0 Lsize=      26kB time=00:00:10.31 bitrate=  20.7kbits/s speed=63.2x    \n",
      "video:24kB audio:0kB subtitle:0kB other streams:0kB global headers:0kB muxing overhead: 8.017664%\n",
      "[libx264 @ 0x5558b4e90f80] frame I:1     Avg QP:18.33  size:   685\n",
      "[libx264 @ 0x5558b4e90f80] frame P:130   Avg QP:20.46  size:   163\n",
      "[libx264 @ 0x5558b4e90f80] frame B:37    Avg QP:20.01  size:    56\n",
      "[libx264 @ 0x5558b4e90f80] consecutive B-frames: 69.6%  1.2%  5.4% 23.8%\n",
      "[libx264 @ 0x5558b4e90f80] mb I  I16..4: 40.6% 57.4%  2.0%\n",
      "[libx264 @ 0x5558b4e90f80] mb P  I16..4:  0.2%  0.5%  0.0%  P16..4:  4.2%  2.4%  1.2%  0.0%  0.0%    skip:91.4%\n",
      "[libx264 @ 0x5558b4e90f80] mb B  I16..4:  0.5%  0.1%  0.0%  B16..8:  5.6%  0.6%  0.1%  direct: 0.1%  skip:92.9%  L0:42.0% L1:53.2% BI: 4.8%\n",
      "[libx264 @ 0x5558b4e90f80] 8x8 transform intra:58.6% inter:65.7%\n",
      "[libx264 @ 0x5558b4e90f80] coded y,uvDC,uvAC intra: 17.3% 0.0% 0.0% inter: 2.0% 0.0% 0.0%\n",
      "[libx264 @ 0x5558b4e90f80] i16 v,h,dc,p: 81%  9%  8%  2%\n",
      "[libx264 @ 0x5558b4e90f80] i8 v,h,dc,ddl,ddr,vr,hd,vl,hu: 18% 18% 44%  2%  5%  6%  4%  1%  2%\n",
      "[libx264 @ 0x5558b4e90f80] i4 v,h,dc,ddl,ddr,vr,hd,vl,hu: 24% 11% 22%  6% 14%  8%  7%  5%  3%\n",
      "[libx264 @ 0x5558b4e90f80] i8c dc,h,v,p: 100%  0%  0%  0%\n",
      "[libx264 @ 0x5558b4e90f80] Weighted P-Frames: Y:3.1% UV:0.0%\n",
      "[libx264 @ 0x5558b4e90f80] ref P L0: 79.3% 13.7%  5.2%  1.3%  0.5%\n",
      "[libx264 @ 0x5558b4e90f80] ref B L0: 86.9% 11.4%  1.8%\n",
      "[libx264 @ 0x5558b4e90f80] ref B L1: 97.3%  2.7%\n",
      "[libx264 @ 0x5558b4e90f80] kb/s:18.28\n"
     ]
    },
    {
     "name": "stdout",
     "output_type": "stream",
     "text": [
      "Generating ./experiments/test-28/visualizations/visualization.mp4\n",
      "\n",
      "----- END -----\n"
     ]
    },
    {
     "name": "stderr",
     "output_type": "stream",
     "text": [
      "ffmpeg version 4.1.6-1~deb10u1 Copyright (c) 2000-2020 the FFmpeg developers\n",
      "  built with gcc 8 (Debian 8.3.0-6)\n",
      "  configuration: --prefix=/usr --extra-version='1~deb10u1' --toolchain=hardened --libdir=/usr/lib/x86_64-linux-gnu --incdir=/usr/include/x86_64-linux-gnu --arch=amd64 --enable-gpl --disable-stripping --enable-avresample --disable-filter=resample --enable-avisynth --enable-gnutls --enable-ladspa --enable-libaom --enable-libass --enable-libbluray --enable-libbs2b --enable-libcaca --enable-libcdio --enable-libcodec2 --enable-libflite --enable-libfontconfig --enable-libfreetype --enable-libfribidi --enable-libgme --enable-libgsm --enable-libjack --enable-libmp3lame --enable-libmysofa --enable-libopenjpeg --enable-libopenmpt --enable-libopus --enable-libpulse --enable-librsvg --enable-librubberband --enable-libshine --enable-libsnappy --enable-libsoxr --enable-libspeex --enable-libssh --enable-libtheora --enable-libtwolame --enable-libvidstab --enable-libvorbis --enable-libvpx --enable-libwavpack --enable-libwebp --enable-libx265 --enable-libxml2 --enable-libxvid --enable-libzmq --enable-libzvbi --enable-lv2 --enable-omx --enable-openal --enable-opengl --enable-sdl2 --enable-libdc1394 --enable-libdrm --enable-libiec61883 --enable-chromaprint --enable-frei0r --enable-libx264 --enable-shared\n",
      "  libavutil      56. 22.100 / 56. 22.100\n",
      "  libavcodec     58. 35.100 / 58. 35.100\n",
      "  libavformat    58. 20.100 / 58. 20.100\n",
      "  libavdevice    58.  5.100 / 58.  5.100\n",
      "  libavfilter     7. 40.101 /  7. 40.101\n",
      "  libavresample   4.  0.  0 /  4.  0.  0\n",
      "  libswscale      5.  3.100 /  5.  3.100\n",
      "  libswresample   3.  3.100 /  3.  3.100\n",
      "  libpostproc    55.  3.100 / 55.  3.100\n",
      "Input #0, image2, from './experiments/test-28/visualizations/*.jpg':\n",
      "  Duration: 00:00:05.12, start: 0.000000, bitrate: N/A\n",
      "    Stream #0:0: Video: mjpeg, yuvj420p(pc, bt470bg/unknown/unknown), 256x256 [SAR 1:1 DAR 1:1], 25 fps, 25 tbr, 25 tbn, 25 tbc\n",
      "Stream mapping:\n",
      "  Stream #0:0 -> #0:0 (mjpeg (native) -> h264 (libx264))\n",
      "Press [q] to stop, [?] for help\n",
      "[swscaler @ 0x55748c0c25c0] deprecated pixel format used, make sure you did set range correctly\n",
      "[libx264 @ 0x55748c033b40] using SAR=1/1\n",
      "[libx264 @ 0x55748c033b40] using cpu capabilities: MMX2 SSE2Fast SSSE3 SSE4.2 AVX FMA3 BMI2 AVX2\n",
      "[libx264 @ 0x55748c033b40] profile High, level 1.2\n",
      "[libx264 @ 0x55748c033b40] 264 - core 155 r2917 0a84d98 - H.264/MPEG-4 AVC codec - Copyleft 2003-2018 - http://www.videolan.org/x264.html - options: cabac=1 ref=3 deblock=1:0:0 analyse=0x3:0x113 me=hex subme=7 psy=1 psy_rd=1.00:0.00 mixed_ref=1 me_range=16 chroma_me=1 trellis=1 8x8dct=1 cqm=0 deadzone=21,11 fast_pskip=1 chroma_qp_offset=-2 threads=6 lookahead_threads=1 sliced_threads=0 nr=0 decimate=1 interlaced=0 bluray_compat=0 constrained_intra=0 bframes=3 b_pyramid=2 b_adapt=1 b_bias=0 direct=1 weightb=1 open_gop=0 weightp=2 keyint=250 keyint_min=16 scenecut=40 intra_refresh=0 rc_lookahead=40 rc=crf mbtree=1 crf=25.0 qcomp=0.60 qpmin=0 qpmax=69 qpstep=4 ip_ratio=1.40 aq=1:1.00\n",
      "Output #0, mp4, to './experiments/test-28/visualizations/visualization.mp4':\n",
      "  Metadata:\n",
      "    encoder         : Lavf58.20.100\n",
      "    Stream #0:0: Video: h264 (libx264) (avc1 / 0x31637661), yuv420p, 256x256 [SAR 1:1 DAR 1:1], q=-1--1, 16 fps, 16384 tbn, 16 tbc\n",
      "    Metadata:\n",
      "      encoder         : Lavc58.35.100 libx264\n",
      "    Side data:\n",
      "      cpb: bitrate max/min/avg: 0/0/0 buffer size: 0 vbv_delay: -1\n",
      "frame=  128 fps=0.0 q=-1.0 Lsize=      39kB time=00:00:07.81 bitrate=  40.5kbits/s speed=56.6x    \n",
      "video:36kB audio:0kB subtitle:0kB other streams:0kB global headers:0kB muxing overhead: 5.983615%\n",
      "[libx264 @ 0x55748c033b40] frame I:1     Avg QP:14.87  size:   797\n",
      "[libx264 @ 0x55748c033b40] frame P:64    Avg QP:21.22  size:   440\n",
      "[libx264 @ 0x55748c033b40] frame B:63    Avg QP:23.53  size:   122\n",
      "[libx264 @ 0x55748c033b40] consecutive B-frames: 21.9% 32.8% 14.1% 31.2%\n",
      "[libx264 @ 0x55748c033b40] mb I  I16..4: 52.0% 45.7%  2.3%\n",
      "[libx264 @ 0x55748c033b40] mb P  I16..4:  0.3%  2.1%  0.2%  P16..4:  5.9%  4.3%  1.6%  0.0%  0.0%    skip:85.8%\n",
      "[libx264 @ 0x55748c033b40] mb B  I16..4:  0.3%  0.1%  0.0%  B16..8:  6.9%  1.1%  0.3%  direct: 0.6%  skip:90.7%  L0:24.4% L1:33.9% BI:41.7%\n",
      "[libx264 @ 0x55748c033b40] 8x8 transform intra:64.5% inter:57.3%\n",
      "[libx264 @ 0x55748c033b40] coded y,uvDC,uvAC intra: 34.6% 0.0% 0.0% inter: 3.2% 0.0% 0.0%\n",
      "[libx264 @ 0x55748c033b40] i16 v,h,dc,p: 90%  1%  8%  0%\n",
      "[libx264 @ 0x55748c033b40] i8 v,h,dc,ddl,ddr,vr,hd,vl,hu: 14% 16% 34%  7%  8%  7%  5%  5%  4%\n",
      "[libx264 @ 0x55748c033b40] i4 v,h,dc,ddl,ddr,vr,hd,vl,hu: 15% 13% 37%  4% 10%  8%  5%  5%  2%\n",
      "[libx264 @ 0x55748c033b40] i8c dc,h,v,p: 100%  0%  0%  0%\n",
      "[libx264 @ 0x55748c033b40] Weighted P-Frames: Y:10.9% UV:0.0%\n",
      "[libx264 @ 0x55748c033b40] ref P L0: 73.5% 20.0%  4.9%  1.5%  0.1%\n",
      "[libx264 @ 0x55748c033b40] ref B L0: 91.3%  7.3%  1.4%\n",
      "[libx264 @ 0x55748c033b40] ref B L1: 99.6%  0.4%\n",
      "[libx264 @ 0x55748c033b40] kb/s:36.66\n"
     ]
    }
   ],
   "source": [
    "# experiment_dir = \"experiments/test-26\"\n",
    "generate_visualizations(experiment_dir)"
   ]
  },
  {
   "cell_type": "code",
   "execution_count": 6,
   "id": "ed5cb12e-8cdb-442d-977c-39bbc7d294a2",
   "metadata": {},
   "outputs": [],
   "source": [
    "import os\n",
    "from IPython.display import Video"
   ]
  },
  {
   "cell_type": "code",
   "execution_count": 7,
   "id": "c9707235-4674-4d91-96ed-712b5f01a04f",
   "metadata": {},
   "outputs": [
    {
     "data": {
      "text/plain": [
       "'./experiments/test-28/visualizations/generation.mp4'"
      ]
     },
     "execution_count": 7,
     "metadata": {},
     "output_type": "execute_result"
    }
   ],
   "source": [
    "os.path.join(experiment_dir, \"visualizations\", 'generation.mp4')"
   ]
  },
  {
   "cell_type": "code",
   "execution_count": 8,
   "id": "4fd87645-5af4-49e6-9f8c-43336f3ad82f",
   "metadata": {},
   "outputs": [
    {
     "data": {
      "text/html": [
       "<video src=\"./experiments/test-28/visualizations/generation.mp4\" controls  >\n",
       "      Your browser does not support the <code>video</code> element.\n",
       "    </video>"
      ],
      "text/plain": [
       "<IPython.core.display.Video object>"
      ]
     },
     "execution_count": 8,
     "metadata": {},
     "output_type": "execute_result"
    }
   ],
   "source": [
    "Video(os.path.join(experiment_dir, \"visualizations\", 'generation.mp4'))"
   ]
  },
  {
   "cell_type": "code",
   "execution_count": 9,
   "id": "1769e3ff-8318-4b9e-900f-7ac6302c0fce",
   "metadata": {},
   "outputs": [
    {
     "data": {
      "text/html": [
       "<video src=\"./experiments/test-28/visualizations/visualization.mp4\" controls  >\n",
       "      Your browser does not support the <code>video</code> element.\n",
       "    </video>"
      ],
      "text/plain": [
       "<IPython.core.display.Video object>"
      ]
     },
     "execution_count": 9,
     "metadata": {},
     "output_type": "execute_result"
    }
   ],
   "source": [
    "Video(os.path.join(experiment_dir, \"visualizations\", 'visualization.mp4'))"
   ]
  },
  {
   "cell_type": "code",
   "execution_count": 10,
   "id": "6d56b387-b414-4dfc-8085-704a2eb62d3b",
   "metadata": {},
   "outputs": [],
   "source": [
    "import numpy as np"
   ]
  },
  {
   "cell_type": "code",
   "execution_count": 11,
   "id": "0cae7991-ccd4-458b-a7ed-8127d7b6982d",
   "metadata": {},
   "outputs": [
    {
     "ename": "NameError",
     "evalue": "name 'sdf_grid' is not defined",
     "output_type": "error",
     "traceback": [
      "\u001b[0;31m---------------------------------------------------------------------------\u001b[0m",
      "\u001b[0;31mNameError\u001b[0m                                 Traceback (most recent call last)",
      "\u001b[0;32m/tmp/ipykernel_31377/2145156433.py\u001b[0m in \u001b[0;36m<module>\u001b[0;34m\u001b[0m\n\u001b[0;32m----> 1\u001b[0;31m \u001b[0mnp\u001b[0m\u001b[0;34m.\u001b[0m\u001b[0msave\u001b[0m\u001b[0;34m(\u001b[0m\u001b[0;34m'bunny_grid.npy'\u001b[0m\u001b[0;34m,\u001b[0m \u001b[0msdf_grid\u001b[0m\u001b[0;34m.\u001b[0m\u001b[0mdetach\u001b[0m\u001b[0;34m(\u001b[0m\u001b[0;34m)\u001b[0m\u001b[0;34m.\u001b[0m\u001b[0mcpu\u001b[0m\u001b[0;34m(\u001b[0m\u001b[0;34m)\u001b[0m\u001b[0;34m.\u001b[0m\u001b[0mnumpy\u001b[0m\u001b[0;34m(\u001b[0m\u001b[0;34m)\u001b[0m\u001b[0;34m)\u001b[0m\u001b[0;34m\u001b[0m\u001b[0;34m\u001b[0m\u001b[0m\n\u001b[0m",
      "\u001b[0;31mNameError\u001b[0m: name 'sdf_grid' is not defined"
     ]
    }
   ],
   "source": [
    "np.save('bunny_grid.npy', sdf_grid.detach().cpu().numpy())"
   ]
  }
 ],
 "metadata": {
  "kernelspec": {
   "display_name": "Python 3 (ipykernel)",
   "language": "python",
   "name": "python3"
  },
  "language_info": {
   "codemirror_mode": {
    "name": "ipython",
    "version": 3
   },
   "file_extension": ".py",
   "mimetype": "text/x-python",
   "name": "python",
   "nbconvert_exporter": "python",
   "pygments_lexer": "ipython3",
   "version": "3.7.9"
  }
 },
 "nbformat": 4,
 "nbformat_minor": 5
}
