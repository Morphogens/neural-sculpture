{
 "cells": [
  {
   "cell_type": "code",
   "execution_count": 1,
   "id": "a918430d-2fae-46f4-9ff4-106551fed598",
   "metadata": {},
   "outputs": [],
   "source": [
    "%load_ext autoreload\n",
    "%autoreload "
   ]
  },
  {
   "cell_type": "code",
   "execution_count": 2,
   "id": "f24fc996-16c2-49df-b454-1cae1af18c22",
   "metadata": {},
   "outputs": [],
   "source": [
    "from sdf_clip import SDFCLIP"
   ]
  },
  {
   "cell_type": "code",
   "execution_count": 3,
   "id": "5462e36c-ff26-4a59-82ca-d55543ff1250",
   "metadata": {},
   "outputs": [
    {
     "name": "stdout",
     "output_type": "stream",
     "text": [
      "ClipLoss device cuda\n"
     ]
    }
   ],
   "source": [
    "sdf_clip = SDFCLIP(\n",
    "    prompt=\"Mesh of a bunny rabbit rendered with zbrush maya\",\n",
    "    out_img_width=256,\n",
    "    out_img_height=256,\n",
    "    use_single_cam=True,\n",
    "    is_jupyter=True,\n",
    ")"
   ]
  },
  {
   "cell_type": "code",
   "execution_count": 4,
   "id": "0a57cdb7-677d-460e-b0a6-ab425e4bbbcc",
   "metadata": {},
   "outputs": [
    {
     "name": "stdout",
     "output_type": "stream",
     "text": [
      "\n",
      "\n",
      "\n",
      "image loss:  tensor(-16.4219, device='cuda:0', dtype=torch.float16, grad_fn=<MulBackward0>)\n",
      "image weight:  tensor(65536)\n",
      "\n",
      "sdf loss:  tensor(0.2570, device='cuda:0', grad_fn=<MulBackward0>)\n",
      "sdf weight:  tensor(512)\n",
      "\n",
      "lp loss:  tensor(0.5711, device='cuda:0', grad_fn=<MulBackward0>)\n",
      "lp weight:  tensor(512)\n",
      "\n",
      "loss:  tensor(-15.5938, device='cuda:0', grad_fn=<AddBackward0>)\n",
      "\n",
      "STD: None\n",
      "\n",
      "AVG: tensor(-15.5905)\n",
      "\n",
      "sdf grid res: 8  - iteration: 4  -  cam view idx 0  -  cam iters: 1\n",
      "\n"
     ]
    },
    {
     "data": {
      "image/png": "[encoded data removed]",
      "text/plain": [
       "<PIL.Image.Image image mode=L size=256x256 at 0x7F52393F37D0>"
      ]
     },
     "metadata": {},
     "output_type": "display_data"
    },
    {
     "ename": "RuntimeError",
     "evalue": "The size of tensor a (8) must match the size of tensor b (16) at non-singleton dimension 2",
     "output_type": "error",
     "traceback": [
      "\u001b[0;31m---------------------------------------------------------------------------\u001b[0m",
      "\u001b[0;31mRuntimeError\u001b[0m                              Traceback (most recent call last)",
      "\u001b[0;32m/tmp/ipykernel_16487/2810609774.py\u001b[0m in \u001b[0;36m<module>\u001b[0;34m\u001b[0m\n\u001b[1;32m      6\u001b[0m     \u001b[0mmax_std_res_loss\u001b[0m \u001b[0;34m=\u001b[0m \u001b[0;36m0.8\u001b[0m\u001b[0;34m,\u001b[0m\u001b[0;34m\u001b[0m\u001b[0;34m\u001b[0m\u001b[0m\n\u001b[1;32m      7\u001b[0m     \u001b[0mnum_std_res_samples\u001b[0m \u001b[0;34m=\u001b[0m \u001b[0;36m3\u001b[0m\u001b[0;34m,\u001b[0m\u001b[0;34m\u001b[0m\u001b[0;34m\u001b[0m\u001b[0m\n\u001b[0;32m----> 8\u001b[0;31m     \u001b[0mmax_num_iters_per_camera\u001b[0m \u001b[0;34m=\u001b[0m \u001b[0;36m1\u001b[0m\u001b[0;34m,\u001b[0m\u001b[0;34m\u001b[0m\u001b[0;34m\u001b[0m\u001b[0m\n\u001b[0m\u001b[1;32m      9\u001b[0m )\n",
      "\u001b[0;32m~/neural-sculpture/sdf_clip.py\u001b[0m in \u001b[0;36mrun\u001b[0;34m(self, learning_rate, image_loss_weight, sdf_loss_weight, lp_loss_weight, max_std_res_loss, num_std_res_samples, max_num_iters_per_camera)\u001b[0m\n\u001b[1;32m    249\u001b[0m                         \u001b[0moptimizer\u001b[0m\u001b[0;34m.\u001b[0m\u001b[0mzero_grad\u001b[0m\u001b[0;34m(\u001b[0m\u001b[0;34m)\u001b[0m\u001b[0;34m\u001b[0m\u001b[0;34m\u001b[0m\u001b[0m\n\u001b[1;32m    250\u001b[0m                         \u001b[0mcam_view_loss\u001b[0m\u001b[0;34m.\u001b[0m\u001b[0mbackward\u001b[0m\u001b[0;34m(\u001b[0m\u001b[0;34m)\u001b[0m\u001b[0;34m\u001b[0m\u001b[0;34m\u001b[0m\u001b[0m\n\u001b[0;32m--> 251\u001b[0;31m                         \u001b[0moptimizer\u001b[0m\u001b[0;34m.\u001b[0m\u001b[0mstep\u001b[0m\u001b[0;34m(\u001b[0m\u001b[0;34m)\u001b[0m\u001b[0;34m\u001b[0m\u001b[0;34m\u001b[0m\u001b[0m\n\u001b[0m\u001b[1;32m    252\u001b[0m \u001b[0;34m\u001b[0m\u001b[0m\n\u001b[1;32m    253\u001b[0m                         \u001b[0mcam_view_loss_list\u001b[0m\u001b[0;34m[\u001b[0m\u001b[0mcam_view_idx\u001b[0m\u001b[0;34m]\u001b[0m \u001b[0;34m=\u001b[0m \u001b[0mcam_view_loss\u001b[0m\u001b[0;34m\u001b[0m\u001b[0;34m\u001b[0m\u001b[0m\n",
      "\u001b[0;32m/opt/conda/envs/neural-sculpture/lib/python3.7/site-packages/torch/autograd/grad_mode.py\u001b[0m in \u001b[0;36mdecorate_context\u001b[0;34m(*args, **kwargs)\u001b[0m\n\u001b[1;32m     24\u001b[0m         \u001b[0;32mdef\u001b[0m \u001b[0mdecorate_context\u001b[0m\u001b[0;34m(\u001b[0m\u001b[0;34m*\u001b[0m\u001b[0margs\u001b[0m\u001b[0;34m,\u001b[0m \u001b[0;34m**\u001b[0m\u001b[0mkwargs\u001b[0m\u001b[0;34m)\u001b[0m\u001b[0;34m:\u001b[0m\u001b[0;34m\u001b[0m\u001b[0;34m\u001b[0m\u001b[0m\n\u001b[1;32m     25\u001b[0m             \u001b[0;32mwith\u001b[0m \u001b[0mself\u001b[0m\u001b[0;34m.\u001b[0m\u001b[0m__class__\u001b[0m\u001b[0;34m(\u001b[0m\u001b[0;34m)\u001b[0m\u001b[0;34m:\u001b[0m\u001b[0;34m\u001b[0m\u001b[0;34m\u001b[0m\u001b[0m\n\u001b[0;32m---> 26\u001b[0;31m                 \u001b[0;32mreturn\u001b[0m \u001b[0mfunc\u001b[0m\u001b[0;34m(\u001b[0m\u001b[0;34m*\u001b[0m\u001b[0margs\u001b[0m\u001b[0;34m,\u001b[0m \u001b[0;34m**\u001b[0m\u001b[0mkwargs\u001b[0m\u001b[0;34m)\u001b[0m\u001b[0;34m\u001b[0m\u001b[0;34m\u001b[0m\u001b[0m\n\u001b[0m\u001b[1;32m     27\u001b[0m         \u001b[0;32mreturn\u001b[0m \u001b[0mcast\u001b[0m\u001b[0;34m(\u001b[0m\u001b[0mF\u001b[0m\u001b[0;34m,\u001b[0m \u001b[0mdecorate_context\u001b[0m\u001b[0;34m)\u001b[0m\u001b[0;34m\u001b[0m\u001b[0;34m\u001b[0m\u001b[0m\n\u001b[1;32m     28\u001b[0m \u001b[0;34m\u001b[0m\u001b[0m\n",
      "\u001b[0;32m/opt/conda/envs/neural-sculpture/lib/python3.7/site-packages/torch/optim/adam.py\u001b[0m in \u001b[0;36mstep\u001b[0;34m(self, closure)\u001b[0m\n\u001b[1;32m    117\u001b[0m                    \u001b[0mgroup\u001b[0m\u001b[0;34m[\u001b[0m\u001b[0;34m'lr'\u001b[0m\u001b[0;34m]\u001b[0m\u001b[0;34m,\u001b[0m\u001b[0;34m\u001b[0m\u001b[0;34m\u001b[0m\u001b[0m\n\u001b[1;32m    118\u001b[0m                    \u001b[0mgroup\u001b[0m\u001b[0;34m[\u001b[0m\u001b[0;34m'weight_decay'\u001b[0m\u001b[0;34m]\u001b[0m\u001b[0;34m,\u001b[0m\u001b[0;34m\u001b[0m\u001b[0;34m\u001b[0m\u001b[0m\n\u001b[0;32m--> 119\u001b[0;31m                    \u001b[0mgroup\u001b[0m\u001b[0;34m[\u001b[0m\u001b[0;34m'eps'\u001b[0m\u001b[0;34m]\u001b[0m\u001b[0;34m\u001b[0m\u001b[0;34m\u001b[0m\u001b[0m\n\u001b[0m\u001b[1;32m    120\u001b[0m                    )\n\u001b[1;32m    121\u001b[0m         \u001b[0;32mreturn\u001b[0m \u001b[0mloss\u001b[0m\u001b[0;34m\u001b[0m\u001b[0;34m\u001b[0m\u001b[0m\n",
      "\u001b[0;32m/opt/conda/envs/neural-sculpture/lib/python3.7/site-packages/torch/optim/functional.py\u001b[0m in \u001b[0;36madam\u001b[0;34m(params, grads, exp_avgs, exp_avg_sqs, max_exp_avg_sqs, state_steps, amsgrad, beta1, beta2, lr, weight_decay, eps)\u001b[0m\n\u001b[1;32m     84\u001b[0m \u001b[0;34m\u001b[0m\u001b[0m\n\u001b[1;32m     85\u001b[0m         \u001b[0;31m# Decay the first and second moment running average coefficient\u001b[0m\u001b[0;34m\u001b[0m\u001b[0;34m\u001b[0m\u001b[0;34m\u001b[0m\u001b[0m\n\u001b[0;32m---> 86\u001b[0;31m         \u001b[0mexp_avg\u001b[0m\u001b[0;34m.\u001b[0m\u001b[0mmul_\u001b[0m\u001b[0;34m(\u001b[0m\u001b[0mbeta1\u001b[0m\u001b[0;34m)\u001b[0m\u001b[0;34m.\u001b[0m\u001b[0madd_\u001b[0m\u001b[0;34m(\u001b[0m\u001b[0mgrad\u001b[0m\u001b[0;34m,\u001b[0m \u001b[0malpha\u001b[0m\u001b[0;34m=\u001b[0m\u001b[0;36m1\u001b[0m \u001b[0;34m-\u001b[0m \u001b[0mbeta1\u001b[0m\u001b[0;34m)\u001b[0m\u001b[0;34m\u001b[0m\u001b[0;34m\u001b[0m\u001b[0m\n\u001b[0m\u001b[1;32m     87\u001b[0m         \u001b[0mexp_avg_sq\u001b[0m\u001b[0;34m.\u001b[0m\u001b[0mmul_\u001b[0m\u001b[0;34m(\u001b[0m\u001b[0mbeta2\u001b[0m\u001b[0;34m)\u001b[0m\u001b[0;34m.\u001b[0m\u001b[0maddcmul_\u001b[0m\u001b[0;34m(\u001b[0m\u001b[0mgrad\u001b[0m\u001b[0;34m,\u001b[0m \u001b[0mgrad\u001b[0m\u001b[0;34m,\u001b[0m \u001b[0mvalue\u001b[0m\u001b[0;34m=\u001b[0m\u001b[0;36m1\u001b[0m \u001b[0;34m-\u001b[0m \u001b[0mbeta2\u001b[0m\u001b[0;34m)\u001b[0m\u001b[0;34m\u001b[0m\u001b[0;34m\u001b[0m\u001b[0m\n\u001b[1;32m     88\u001b[0m         \u001b[0;32mif\u001b[0m \u001b[0mamsgrad\u001b[0m\u001b[0;34m:\u001b[0m\u001b[0;34m\u001b[0m\u001b[0;34m\u001b[0m\u001b[0m\n",
      "\u001b[0;31mRuntimeError\u001b[0m: The size of tensor a (8) must match the size of tensor b (16) at non-singleton dimension 2"
     ]
    }
   ],
   "source": [
    "sdf_grid = sdf_clip.run(\n",
    "    learning_rate = 0.03,\n",
    "    image_loss_weight = 1 / 1000,\n",
    "    sdf_loss_weight = 1 / 1000,\n",
    "    lp_loss_weight = 1 / 1000,\n",
    "    max_std_res_loss = 0.8,\n",
    "    num_std_res_samples = 3,\n",
    "    max_num_iters_per_camera = 1,\n",
    ")"
   ]
  },
  {
   "cell_type": "code",
   "execution_count": null,
   "id": "919c1d1f-e745-495e-aaa8-99f0a71b00e0",
   "metadata": {},
   "outputs": [],
   "source": [
    "sdf_grid.shape"
   ]
  },
  {
   "cell_type": "code",
   "execution_count": null,
   "id": "6d56b387-b414-4dfc-8085-704a2eb62d3b",
   "metadata": {},
   "outputs": [],
   "source": [
    "import numpy as np"
   ]
  },
  {
   "cell_type": "code",
   "execution_count": null,
   "id": "0cae7991-ccd4-458b-a7ed-8127d7b6982d",
   "metadata": {},
   "outputs": [],
   "source": [
    "np.save('bunny_grid.npy', sdf_grid.detach().cpu().numpy())"
   ]
  },
  {
   "cell_type": "code",
   "execution_count": null,
   "id": "1724544d-6ab0-47e1-8f41-cf5f87d02678",
   "metadata": {},
   "outputs": [],
   "source": [
    "import math\n",
    "import time\n",
    "\n",
    "import torch\n",
    "from PIL import Image\n",
    "from IPython.display import display, clear_output\n",
    "\n",
    "from sdf_utils import generate_image"
   ]
  },
  {
   "cell_type": "code",
   "execution_count": null,
   "id": "5ebaeaa6-cc48-4abc-be41-3f113788b81b",
   "metadata": {},
   "outputs": [],
   "source": [
    "Tensor = torch.cuda.FloatTensor\n",
    "camera_angle_list = [\n",
    "    Tensor([0, 0, 5]),  # 0\n",
    "    Tensor([0.1, 5, 0]),\n",
    "    Tensor([5, 0, 0]),\n",
    "    Tensor([0, 0, -5]),\n",
    "    Tensor([0.1, -5, 0]),\n",
    "    Tensor([-5, 0, 0]),  # 5\n",
    "    Tensor([5 / math.sqrt(2), 0, 5 / math.sqrt(2)]),\n",
    "    Tensor([5 / math.sqrt(2), 5 / math.sqrt(2), 0]),\n",
    "    Tensor([0, 5 / math.sqrt(2), 5 / math.sqrt(2)]),\n",
    "    Tensor([-5 / math.sqrt(2), 0, -5 / math.sqrt(2)]),\n",
    "    Tensor([-5 / math.sqrt(2), -5 / math.sqrt(2), 0]),  #10\n",
    "    Tensor([0, -5 / math.sqrt(2), -5 / math.sqrt(2)]),\n",
    "    Tensor([-5 / math.sqrt(2), 0, 5 / math.sqrt(2)]),\n",
    "    Tensor([-5 / math.sqrt(2), 5 / math.sqrt(2), 0]),\n",
    "    Tensor([0, -5 / math.sqrt(2), 5 / math.sqrt(2)]),\n",
    "    Tensor([5 / math.sqrt(2), 0, -5 / math.sqrt(2)]),\n",
    "    Tensor([5 / math.sqrt(2), -5 / math.sqrt(2), 0]),\n",
    "    Tensor([0, 5 / math.sqrt(2), -5 / math.sqrt(2)]),\n",
    "    Tensor([5 / math.sqrt(3), 5 / math.sqrt(3), 5 / math.sqrt(3)]),\n",
    "    Tensor([5 / math.sqrt(3), 5 / math.sqrt(3), -5 / math.sqrt(3)]),\n",
    "    Tensor([5 / math.sqrt(3), -5 / math.sqrt(3), 5 / math.sqrt(3)]),\n",
    "    Tensor([-5 / math.sqrt(3), 5 / math.sqrt(3), 5 / math.sqrt(3)]),\n",
    "    Tensor([-5 / math.sqrt(3), -5 / math.sqrt(3), 5 / math.sqrt(3)]),\n",
    "    Tensor([-5 / math.sqrt(3), 5 / math.sqrt(3), -5 / math.sqrt(3)]),\n",
    "    Tensor([5 / math.sqrt(3), -5 / math.sqrt(3), -5 / math.sqrt(3)]),\n",
    "    Tensor([-5 / math.sqrt(3), -5 / math.sqrt(3), -5 / math.sqrt(3)])\n",
    "]"
   ]
  },
  {
   "cell_type": "code",
   "execution_count": null,
   "id": "b30f60c1-714b-4dae-8ad9-7e708eec47a1",
   "metadata": {},
   "outputs": [],
   "source": [
    "num_cameras = 26\n",
    "camera_angle_list = [\n",
    "    torch.tensor([5 * math.cos(a), 0, 5 * math.sin(a)]).cuda()\n",
    "    for a in np.linspace(0, math.pi / 4, num_cameras)\n",
    "]"
   ]
  },
  {
   "cell_type": "code",
   "execution_count": null,
   "id": "651e1f33-23dd-482e-b581-cdd194186ae8",
   "metadata": {},
   "outputs": [],
   "source": [
    "bounding_box_min_x = -2.\n",
    "bounding_box_min_y = -2.\n",
    "bounding_box_min_z = -2.\n",
    "bounding_box_max_x = 2.\n",
    "bounding_box_max_y = 2.\n",
    "bounding_box_max_z = 2\n",
    "\n",
    "grid_res_x = grid_res_y = grid_res_z = sdf_grid.shape[0]\n",
    "voxel_size = torch.tensor([4. / (grid_res_x - 1)]).cuda()\n",
    "\n",
    "out_img_width = 512\n",
    "out_img_height = 512\n",
    "\n",
    "for cam in range(num_cameras):\n",
    "    image_initial = generate_image(\n",
    "        bounding_box_min_x,\n",
    "        bounding_box_min_y,\n",
    "        bounding_box_min_z,\n",
    "        bounding_box_max_x,\n",
    "        bounding_box_max_y,\n",
    "        bounding_box_max_z,\n",
    "        voxel_size,\n",
    "        grid_res_x,\n",
    "        grid_res_y,\n",
    "        grid_res_z,\n",
    "        out_img_width,\n",
    "        out_img_height,\n",
    "        sdf_grid,\n",
    "        camera_angle_list[cam],\n",
    "    )\n",
    "    \n",
    "    clear_output(wait=True)\n",
    "    \n",
    "    image_initial_array = image_initial.detach().cpu().numpy() * 255\n",
    "    display(Image.fromarray(image_initial_array.astype(np.uint8)))\n",
    "    print(camera_angle_list[cam])\n",
    "    time.sleep(0.4)"
   ]
  },
  {
   "cell_type": "code",
   "execution_count": null,
   "id": "19e8f58c-28e1-4a6f-8803-79eaa2c8ff37",
   "metadata": {},
   "outputs": [],
   "source": []
  },
  {
   "cell_type": "code",
   "execution_count": null,
   "id": "28352c06-3130-4951-b2f0-e02532fd1ca1",
   "metadata": {},
   "outputs": [],
   "source": []
  }
 ],
 "metadata": {
  "kernelspec": {
   "display_name": "Python 3 (ipykernel)",
   "language": "python",
   "name": "python3"
  },
  "language_info": {
   "codemirror_mode": {
    "name": "ipython",
    "version": 3
   },
   "file_extension": ".py",
   "mimetype": "text/x-python",
   "name": "python",
   "nbconvert_exporter": "python",
   "pygments_lexer": "ipython3",
   "version": "3.7.9"
  }
 },
 "nbformat": 4,
 "nbformat_minor": 5
}
